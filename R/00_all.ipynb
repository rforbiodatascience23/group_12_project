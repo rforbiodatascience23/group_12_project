{
  "cells": [
    {
      "cell_type": "raw",
      "metadata": {},
      "source": [
        "---\n",
        "title: \"00_all.qmd\"\n",
        "author: \"group_12\"\n",
        "format: \n",
        "  html:\n",
        "    embed-resources: true\n",
        "editor: visual\n",
        "---"
      ],
      "id": "f5fcb722"
    },
    {
      "cell_type": "markdown",
      "metadata": {},
      "source": [
        "# Master document\n",
        "\n",
        "## Load the datasets used in the project\n",
        "\n",
        "This file contains the script that loads all the raw data we used in the project\n",
        "\n",
        "{{< include 01_load.qmd >}}\n",
        "```{source}\n",
        "source(\"01_load.qmd\")\n",
        "```\n",
        "\n",
        "## Clean the datasets\n",
        "\n",
        "This file contains the cleaning process we followed to optimize the data format for the project\n",
        "\n",
        "{{< include 02_clean.qmd >}}\n",
        "\n",
        "## Creation of new variables\n",
        "\n",
        "This file contains the new variables useful for our analysis\n",
        "\n",
        "{{< include 03_augment.qmd >}}\n",
        "\n",
        "## Analysis\n",
        "\n",
        "These two files contain the data analysis including plots and figures.\n",
        "\n",
        "{{< include 05_analysis_1.qmd >}}\n",
        "\n",
        "{{< include 06_analysis_2.qmd >}}"
      ],
      "id": "c01b04ee"
    }
  ],
  "metadata": {
    "kernelspec": {
      "display_name": "Python 3",
      "language": "python",
      "name": "python3"
    }
  },
  "nbformat": 4,
  "nbformat_minor": 5
}